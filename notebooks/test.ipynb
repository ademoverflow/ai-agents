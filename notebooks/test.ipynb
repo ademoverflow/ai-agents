{
 "cells": [
  {
   "cell_type": "code",
   "execution_count": 1,
   "id": "ecf6a72d-2ad2-4ce5-bdb5-1cb7d12e1b9f",
   "metadata": {},
   "outputs": [
    {
     "data": {
      "text/plain": [
       "True"
      ]
     },
     "execution_count": 1,
     "metadata": {},
     "output_type": "execute_result"
    }
   ],
   "source": [
    "from dotenv import load_dotenv\n",
    "load_dotenv()\n"
   ]
  },
  {
   "cell_type": "code",
   "execution_count": 2,
   "id": "398a8214",
   "metadata": {},
   "outputs": [],
   "source": [
    "from ai_agents.tools.search_tools import SearchTools"
   ]
  },
  {
   "cell_type": "code",
   "execution_count": 3,
   "id": "c940d59c",
   "metadata": {},
   "outputs": [
    {
     "name": "stderr",
     "output_type": "stream",
     "text": [
      "/var/folders/92/tl93n2d13zz9pjh11c9gr6dc0000gn/T/ipykernel_75205/173012702.py:1: LangChainDeprecationWarning: The method `BaseTool.__call__` was deprecated in langchain-core 0.1.47 and will be removed in 1.0. Use :meth:`~invoke` instead.\n",
      "  content  = SearchTools().search_alibaba(\"case iphone 16\")\n"
     ]
    }
   ],
   "source": [
    "content  = SearchTools().search_alibaba(\"case iphone 16\")"
   ]
  },
  {
   "cell_type": "code",
   "execution_count": null,
   "id": "3f7ee07d",
   "metadata": {},
   "outputs": [],
   "source": []
  }
 ],
 "metadata": {
  "kernelspec": {
   "display_name": ".venv",
   "language": "python",
   "name": "python3"
  },
  "language_info": {
   "codemirror_mode": {
    "name": "ipython",
    "version": 3
   },
   "file_extension": ".py",
   "mimetype": "text/x-python",
   "name": "python",
   "nbconvert_exporter": "python",
   "pygments_lexer": "ipython3",
   "version": "3.13.1"
  }
 },
 "nbformat": 4,
 "nbformat_minor": 5
}
